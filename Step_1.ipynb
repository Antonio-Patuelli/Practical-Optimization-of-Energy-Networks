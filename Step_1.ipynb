{
 "cells": [
  {
   "cell_type": "markdown",
   "metadata": {},
   "source": [
    "## STEP 1\n",
    "\n",
    "Import Libraries"
   ]
  },
  {
   "cell_type": "code",
   "execution_count": 38,
   "metadata": {},
   "outputs": [],
   "source": [
    "import pandapower as pp\n",
    "import pandapower.networks as nw\n",
    "import pandapower.plotting as plot\n",
    "import math\n"
   ]
  },
  {
   "cell_type": "markdown",
   "metadata": {},
   "source": [
    "Create the Medium Voltage net"
   ]
  },
  {
   "cell_type": "code",
   "execution_count": 17,
   "metadata": {},
   "outputs": [],
   "source": [
    "net = nw.create_cigre_network_mv(with_der=False)"
   ]
  },
  {
   "cell_type": "markdown",
   "metadata": {},
   "source": [
    "Run the net"
   ]
  },
  {
   "cell_type": "code",
   "execution_count": null,
   "metadata": {},
   "outputs": [],
   "source": [
    "net"
   ]
  },
  {
   "cell_type": "markdown",
   "metadata": {},
   "source": [
    "# 1.1 \n",
    "\n",
    "What is the state of the network? Check bus voltage [pu] and line/transformer loading [%]\n",
    "\n",
    "Consider that the maximum allowed voltage is 1.1 pu, the minimum is 0.9 pu, and the maximum line loading is 100%.\n",
    "\n",
    "Set the limits for Voltage Per Unit (pu) and for Line loading"
   ]
  },
  {
   "cell_type": "code",
   "execution_count": 30,
   "metadata": {},
   "outputs": [],
   "source": [
    "bus_max_pu=1.1\n",
    "bus_min_pu=0.9\n",
    "max_line_loading=100\n",
    "max_trafo_loading=100"
   ]
  },
  {
   "cell_type": "markdown",
   "metadata": {},
   "source": [
    "Run the net"
   ]
  },
  {
   "cell_type": "code",
   "execution_count": null,
   "metadata": {},
   "outputs": [],
   "source": [
    "pp.runpp(net)\n",
    "plot.simple_plot(net, respect_switches=False, line_width=1.0, bus_size=1.0, ext_grid_size=1.0, trafo_size=1.0, \n",
    "                 plot_loads=True, plot_gens=False, plot_sgens=False, \n",
    "                 load_size=2, gen_size=1.0, sgen_size=1.0, \n",
    "                 switch_size=2.0, switch_distance=1.0, plot_line_switches=False, scale_size=True, \n",
    "                 bus_color='b', line_color='grey', trafo_color='k', ext_grid_color='y', switch_color='r', library='igraph', show_plot=True, ax=None)\n"
   ]
  },
  {
   "cell_type": "markdown",
   "metadata": {},
   "source": [
    "Define a function to Check if Voltage is within the limits max_pu and min_pu"
   ]
  },
  {
   "cell_type": "code",
   "execution_count": 48,
   "metadata": {},
   "outputs": [],
   "source": [
    "def checkVoltageRange(max,min,vm_data,component_name):\n",
    "    print(f'---------{component_name} Voltage Check ---------\\n')\n",
    "    i=0\n",
    "    faults=0\n",
    "    for vm in vm_data:\n",
    "        if vm >= max:\n",
    "            print(f'{component_name} {i} Voltage is Over the Limit: {round(vm,4)}')\n",
    "            faults+=1\n",
    "        elif vm <= min:\n",
    "            print (f'{component_name} {i} Voltage is Under the Limit: {round(vm,4)}')\n",
    "            faults+=1\n",
    "        elif math.isnan(vm):\n",
    "            print (f'{component_name} {i} is off Grid')\n",
    "            faults+=1\n",
    "        i+=1\n",
    "    if faults==0:\n",
    "        print(f'OK {component_name} \\n')\n",
    "    else:\n",
    "        print(f'Number of {component_name} out of Voltage range: {faults}\\n ')"
   ]
  },
  {
   "cell_type": "markdown",
   "metadata": {},
   "source": [
    "Define a function to check if Loading Percent is over a certain Limit"
   ]
  },
  {
   "cell_type": "code",
   "execution_count": 47,
   "metadata": {},
   "outputs": [],
   "source": [
    "def checkLoadingPercent(limit,loading_data,component_name):\n",
    "    print(f'---------{component_name} Loading Check ---------\\n')\n",
    "    i=0\n",
    "    faults=0\n",
    "    for loading in loading_data:\n",
    "        if loading > limit:\n",
    "            print(f'{component_name}  {i} is Overloaded: {round(loading,2)}')\n",
    "            faults+=1\n",
    "        elif math.isnan(loading):\n",
    "            print (f'{component_name} {i} is off Grid')\n",
    "            faults+=1\n",
    "        i+=1\n",
    "    if faults==0:\n",
    "        print(f'OK {component_name}\\n')\n",
    "    else:\n",
    "        print(f'Number of Overloaded {component_name} : {faults} \\n')\n",
    "        "
   ]
  },
  {
   "cell_type": "markdown",
   "metadata": {},
   "source": [
    "Check the requried Network values"
   ]
  },
  {
   "cell_type": "code",
   "execution_count": null,
   "metadata": {},
   "outputs": [],
   "source": [
    "checkVoltageRange(bus_max_pu,bus_min_pu,net.res_bus.vm_pu,\"Bus\")\n",
    "checkLoadingPercent(max_line_loading,net.res_line.loading_percent,\"Line\")\n",
    "checkLoadingPercent(max_trafo_loading,net.res_trafo.loading_percent,\"Transformer\")"
   ]
  },
  {
   "cell_type": "markdown",
   "metadata": {},
   "source": [
    "# 1.2\n",
    "\n",
    "What happens in the system during a contingency (N-1) case? Are there lines overloaded? Buses above/under the limits?\n",
    "\n",
    "Consider that the maximum allowed voltage is 1.1 pu, the minimum is 0.9 pu, the maximum line loading is 100% AND all\n",
    "customers/loads should be supplied with power.\n",
    "\n",
    "Ignore the switches:\n",
    "- Line 12 (bus 6 to 7)\n",
    "- Line 13 (bus 11 to 4)\n",
    "- Line 14 (bus 14 to 8)"
   ]
  },
  {
   "cell_type": "markdown",
   "metadata": {},
   "source": [
    "Define a function to check if Load receive power"
   ]
  },
  {
   "cell_type": "code",
   "execution_count": 24,
   "metadata": {},
   "outputs": [],
   "source": [
    "def load_check(load_data):\n",
    "    print(f'----------Loads check ---------\\n')\n",
    "    i=0\n",
    "    faults=0\n",
    "    for load in load_data:\n",
    "        if load == 0:\n",
    "            #print(f'{i} OK')\n",
    "            faults+=1\n",
    "        i+=1\n",
    "    if faults==0:\n",
    "        print(\"OK Loads\\n\")\n",
    "    else:\n",
    "        print(f'Number of not served Loads: {faults}\\n')"
   ]
  },
  {
   "cell_type": "markdown",
   "metadata": {},
   "source": [
    "Run the N-1 contingency with the normal limit values"
   ]
  },
  {
   "cell_type": "code",
   "execution_count": null,
   "metadata": {},
   "outputs": [],
   "source": [
    "\n",
    "i=0\n",
    "for i,line in net.line.iterrows():\n",
    "    if i < 12:  \n",
    "        #Printing Line Index and From-To Buses   \n",
    "        print(f'######################## Line {i} ##############################')\n",
    "        from_bus = line['from_bus']\n",
    "        to_bus = line['to_bus']\n",
    "        print(f'From Bus {from_bus} to {to_bus}')\n",
    "\n",
    "        #Line i Out of service \n",
    "        net.line.at[i,'in_service']=False\n",
    "\n",
    "        #Run the net\n",
    "        pp.runpp(net)\n",
    "\n",
    "        #Check the values\n",
    "        checkVoltageRange(bus_max_pu,bus_min_pu,net.res_bus.vm_pu,\"Bus\")\n",
    "        checkLoadingPercent(max_line_loading,net.res_line.loading_percent,\"Line\")\n",
    "        checkLoadingPercent(max_trafo_loading,net.res_trafo.loading_percent,\"Transformer\")\n",
    "        print(net.res_trafo.loading_percent)\n",
    "        print(net.res_trafo.p_hv_mw)\n",
    "        \n",
    "        load_check(net.res_load.p_mw)\n",
    "        \n",
    "        net.line.at[i,'in_service']=True\n",
    "        i+=1"
   ]
  },
  {
   "cell_type": "markdown",
   "metadata": {},
   "source": [
    "# 1.3\n",
    "\n",
    "Run the N-1 contingency with the **Strict** limit values"
   ]
  },
  {
   "cell_type": "code",
   "execution_count": null,
   "metadata": {},
   "outputs": [],
   "source": [
    "i=0\n",
    "\n",
    "bus_max_pu=1.05\n",
    "bus_min_pu=0.95\n",
    "\n",
    "\n",
    "for i,line in net.line.iterrows():\n",
    "    if i < 12:  \n",
    "        #Printing Line Index and From-To Buses   \n",
    "        print(f'######################## Line {i} ##############################')\n",
    "        from_bus = line['from_bus']\n",
    "        to_bus = line['to_bus']\n",
    "        print(f'From Bus {from_bus} to {to_bus}')\n",
    "\n",
    "        #Line i Out of service \n",
    "        net.line.at[i,'in_service']=False\n",
    "\n",
    "        #Run the net\n",
    "        pp.runpp(net)\n",
    "\n",
    "        #Check the values\n",
    "        checkVoltageRange(bus_max_pu,bus_min_pu,net.res_bus.vm_pu,\"Bus\")\n",
    "        net.res_bus.\n",
    "        checkLoadingPercent(max_line_loading,net.res_line.loading_percent,\"Line\")\n",
    "        checkLoadingPercent(max_trafo_loading,net.res_trafo.loading_percent,\"Transformer\")\n",
    "        load_check(net.res_load.p_mw)\n",
    "        \n",
    "        net.line.at[i,'in_service']=True\n",
    "        i+=1"
   ]
  },
  {
   "cell_type": "markdown",
   "metadata": {},
   "source": [
    "## STEP 2\n",
    "\n",
    "Add load shapes to existing customers (time series simulation)"
   ]
  },
  {
   "cell_type": "code",
   "execution_count": null,
   "metadata": {},
   "outputs": [],
   "source": []
  }
 ],
 "metadata": {
  "kernelspec": {
   "display_name": "Python 3",
   "language": "python",
   "name": "python3"
  },
  "language_info": {
   "codemirror_mode": {
    "name": "ipython",
    "version": 3
   },
   "file_extension": ".py",
   "mimetype": "text/x-python",
   "name": "python",
   "nbconvert_exporter": "python",
   "pygments_lexer": "ipython3",
   "version": "3.11.3"
  }
 },
 "nbformat": 4,
 "nbformat_minor": 2
}
