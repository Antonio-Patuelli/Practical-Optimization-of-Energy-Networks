{
 "cells": [
  {
   "cell_type": "markdown",
   "metadata": {},
   "source": [
    "# STEP 1"
   ]
  },
  {
   "cell_type": "code",
   "execution_count": 22,
   "metadata": {},
   "outputs": [],
   "source": [
    "import pandapower as pp\n",
    "import pandapower.networks as nw\n",
    "import pandapower.plotting as plot\n",
    "import matplotlib.pyplot as plt\n",
    "import math\n",
    "import geojson\n",
    "import numpy as np\n",
    "from openpyxl import load_workbook\n"
   ]
  },
  {
   "cell_type": "markdown",
   "metadata": {},
   "source": [
    "## Functions"
   ]
  },
  {
   "cell_type": "markdown",
   "metadata": {},
   "source": [
    "### Plot with ColorMaps"
   ]
  },
  {
   "cell_type": "code",
   "execution_count": 23,
   "metadata": {},
   "outputs": [],
   "source": [
    "\n",
    "def plot_colormaps(line_values,bus_values,trafo_values,load_values,file_name):\n",
    "    \n",
    "    line_values=net.res_line.loading_percent\n",
    "    bus_values=net.res_bus.vm_pu\n",
    "    trafo_values=net.res_trafo.loading_percent\n",
    "    load_values=net.res_load.p_mw\n",
    "    switch_values=net.res_switch.i_ka\n",
    "\n",
    "\n",
    "    cmap_list_line=[(0, \"#00e33e\"),(50, \"yellow\"),  (max_line_loading, \"red\")]\n",
    "    cmap_list_bus=[(bus_min_pu, \"#00e33e\"),(1,\"yellow\"), (bus_max_pu, \"red\")]\n",
    "    cmap_list_trafo=[((0, 80), \"#00e33e\"), ((80, max_trafo_loading), \"yellow\"), ((max_trafo_loading, 200), \"red\")]\n",
    "    cmap_list_load=[(0, \"red\"), (0.1, \"#00e33e\")]\n",
    "\n",
    "    cmap_line, norm_line = plot.cmap_continuous(cmap_list_line)\n",
    "    cmap_bus, norm_bus= plot.cmap_continuous(cmap_list_bus)\n",
    "    cmap_trafo, norm_trafo =plot.cmap_discrete(cmap_list_trafo)\n",
    "    cmap_load, norm_load = plot.cmap_continuous(cmap_list_load)\n",
    "\n",
    "    load_colors=cmap_load(norm_load(load_values))\n",
    "\n",
    "    line_c = plot.create_line_collection(net, net.line.index, z=line_values, zorder=1, cmap=cmap_line, norm=norm_line, linewidths=2)\n",
    "    bus_c = plot.create_bus_collection(net, net.bus.index, z=bus_values, size=0.2, zorder=2, cmap=cmap_bus, norm=norm_bus)\n",
    "    trafo_c= plot.create_trafo_collection(net, net.trafo.index, z=trafo_values, zorder=3, cmap=cmap_trafo, norm=norm_trafo)\n",
    "    load_c = plot.create_load_collection(net, net.load.index, size=0.3, color=load_colors)\n",
    "    \n",
    "    plot.draw_collections([line_c, bus_c, trafo_c ,load_c], figsize=(15,8))\n",
    "\n",
    "    # Custom switch plotting\n",
    "    for i, switch in net.switch.iterrows():\n",
    "        bus_idx = switch['bus']\n",
    "        element_idx = switch['element']\n",
    "        # Get coordinates (assuming the switch connects a bus to a line or another bus)\n",
    "        bus_coords = net.bus_geodata.loc[bus_idx]\n",
    "        if bus_idx==14 or bus_idx==7 or bus_idx==4:\n",
    "            if switch['closed']==1:\n",
    "                plt.plot(bus_coords.x, bus_coords.y, 'bx', markersize=15)\n",
    "            else:\n",
    "                plt.plot(bus_coords.x, bus_coords.y, 'rx',markersize=15)\n",
    "                \n",
    "    plt.savefig(file_name)"
   ]
  },
  {
   "cell_type": "markdown",
   "metadata": {},
   "source": [
    "### Check Voltage Range"
   ]
  },
  {
   "cell_type": "code",
   "execution_count": 24,
   "metadata": {},
   "outputs": [],
   "source": [
    "def checkVoltageRange(max,min,vm_data,component_name):\n",
    "    #print(f'---------{component_name} Voltage Check ---------\\n')\n",
    "    i=0\n",
    "    faults=0\n",
    "    for vm in vm_data:\n",
    "        if vm >= max:\n",
    "            #print(f'{component_name} {i} Voltage is Over the Limit: {round(vm,4)}')\n",
    "            faults+=1\n",
    "        elif vm <= min:\n",
    "            #print (f'{component_name} {i} Voltage is Under the Limit: {round(vm,4)}')\n",
    "            faults+=1\n",
    "        elif math.isnan(vm):\n",
    "            #print (f'{component_name} {i} is off Grid')\n",
    "            faults+=1\n",
    "        i+=1\n",
    "    \"\"\"if faults==0:\n",
    "        print(f'OK {component_name} \\n')\n",
    "    else:\n",
    "        print(f'Number of {component_name} out of Voltage range: {faults}\\n ')\"\"\"\n",
    "    return faults   "
   ]
  },
  {
   "cell_type": "markdown",
   "metadata": {},
   "source": [
    "### Check Loading Percent"
   ]
  },
  {
   "cell_type": "code",
   "execution_count": 25,
   "metadata": {},
   "outputs": [],
   "source": [
    "def checkLoadingPercent(limit,loading_data,component_name):\n",
    "    #print(f'---------{component_name} Loading Check ---------\\n')\n",
    "    i=0\n",
    "    faults=0\n",
    "    faults_disc=0\n",
    "    for loading in loading_data:\n",
    "        if loading > limit:\n",
    "            #print(f'{component_name}  {i} is Overloaded: {round(loading,2)}')\n",
    "            faults+=1\n",
    "        elif math.isnan(loading):\n",
    "            #print (f'{component_name} {i} is off Grid')\n",
    "            faults_disc+=1\n",
    "        i+=1\n",
    "    \"\"\"if faults==0:\n",
    "        print(f'OK {component_name} loading\\n')\n",
    "    else:\n",
    "        print(f'Number of Overloaded {component_name} : {faults} \\n')\n",
    "        print(f'Number of disconnected {component_name} : {faults_disc} \\n')\"\"\"\n",
    "        \n",
    "    return faults, faults_disc"
   ]
  },
  {
   "cell_type": "markdown",
   "metadata": {},
   "source": [
    "### Check Load Power"
   ]
  },
  {
   "cell_type": "code",
   "execution_count": 26,
   "metadata": {},
   "outputs": [],
   "source": [
    "def load_check(load_data):\n",
    "    #print(f'----------Loads check ---------\\n')\n",
    "    i=0\n",
    "    faults=0\n",
    "    load_status=np.zeros(18)\n",
    "    for load in load_data:\n",
    "        if load == 0:\n",
    "            #print(f'{i} OK')\n",
    "            load_status[i]=1\n",
    "            faults+=1\n",
    "        else:\n",
    "            load_status[i]=0\n",
    "        i+=1\n",
    "    \"\"\"if faults==0:\n",
    "        print(\"OK Loads\\n\")\n",
    "    else:\n",
    "        print(f'Number of not served Loads: {faults}\\n')\"\"\"\n",
    "    return faults, load_status"
   ]
  },
  {
   "cell_type": "markdown",
   "metadata": {},
   "source": [
    "### Excel line data"
   ]
  },
  {
   "cell_type": "code",
   "execution_count": 27,
   "metadata": {},
   "outputs": [],
   "source": [
    "def excel_values_lines(workbook, sheet_name, column_, data, nan_data,power_data):\n",
    "     # Load the workbook and select the sheet\n",
    "     sheet = workbook[sheet_name]\n",
    "     k=0\n",
    "     # Start writing data\n",
    "     for i, value in enumerate(data):\n",
    "          # Start writing from row 5\n",
    "          row=i+6\n",
    "\n",
    "          cell = sheet.cell(row=row, column=column_)\n",
    "          cell.value = value\n",
    "          cell =sheet.cell(row=row,column=column_+10)\n",
    "          cell.value= nan_data[k]\n",
    "          cell =sheet.cell(row=row,column=column_+20)\n",
    "          cell.value=power_data[k]\n",
    "          k=k+1"
   ]
  },
  {
   "cell_type": "markdown",
   "metadata": {},
   "source": [
    "### Excel load data"
   ]
  },
  {
   "cell_type": "code",
   "execution_count": 28,
   "metadata": {},
   "outputs": [],
   "source": [
    "def excel_values_load(workbook, sheet_name, column_, data):\n",
    "     # Load the workbook and select the sheet\n",
    "     sheet = workbook[sheet_name]\n",
    "\n",
    "     for i, value in enumerate(data):\n",
    "          # Start writing from row 5\n",
    "          row=i+5\n",
    "\n",
    "          cell = sheet.cell(row=row, column=column_)\n",
    "          cell.value = value\n",
    "          #print(f\"Writing {value} to cell {cell.coordinate}\")"
   ]
  },
  {
   "cell_type": "markdown",
   "metadata": {},
   "source": [
    "### (N-1)Contingency"
   ]
  },
  {
   "cell_type": "code",
   "execution_count": 35,
   "metadata": {},
   "outputs": [],
   "source": [
    "def contingency(bus_max_pu,bus_min_pu,max_line_loading,max_trafo_loading,net,l12,l13,l14,file_path):\n",
    "    workbook = load_workbook(file_path)\n",
    "    print(\"------------------------------------------------------------------------------------------------------------------\")\n",
    "    i=0\n",
    "    sum_line_loading = np.zeros(15)\n",
    "    sum_line_power=sum_line_loading\n",
    "    nan_times=sum_line_loading\n",
    "    sum_load_status=np.zeros(18)\n",
    "    excel_column=0 \n",
    "    match (l12,l13,l14):\n",
    "        case (1, 1, 1):\n",
    "             excel_column=2\n",
    "        case (0, 0, 0):\n",
    "             net.switch.at[1,'closed']=False\n",
    "             net.switch.at[2,'closed']=False\n",
    "             net.switch.at[5,'closed']=False\n",
    "             net.line.at[12,'in_service']=False\n",
    "             net.line.at[13,'in_service']=False\n",
    "             net.line.at[14,'in_service']=False\n",
    "             excel_column=3  \n",
    "        case (1, 0, 0):\n",
    "             net.switch.at[2,'closed']=False\n",
    "             net.switch.at[5,'closed']=False\n",
    "             net.line.at[13,'in_service']=False\n",
    "             net.line.at[14,'in_service']=False\n",
    "             excel_column=4\n",
    "        case (1, 0, 1):\n",
    "             net.switch.at[2,'closed']=False\n",
    "             net.line.at[13,'in_service']=False\n",
    "             excel_column=5\n",
    "        case (1, 1, 0):\n",
    "             net.switch.at[5,'closed']=False\n",
    "             net.line.at[14,'in_service']=False\n",
    "             excel_column=6\n",
    "        case (0, 1, 0):\n",
    "             net.switch.at[1,'closed']=False\n",
    "             net.switch.at[5,'closed']=False\n",
    "             net.line.at[12,'in_service']=False\n",
    "             net.line.at[14,'in_service']=False\n",
    "             excel_column=7\n",
    "        case (0, 1, 1):\n",
    "             net.switch.at[1,'closed']=False\n",
    "             net.line.at[12,'in_service']=False\n",
    "             excel_column=8\n",
    "        case (0, 0, 1):\n",
    "             net.switch.at[1,'closed']=False\n",
    "             net.switch.at[2,'closed']=False\n",
    "             net.line.at[12,'in_service']=False\n",
    "             net.line.at[13,'in_service']=False\n",
    "             excel_column=9\n",
    "\n",
    "    print(f'L12 = {l12} L13 = {l13} L14 = {l14} ') \n",
    "    for i,line in net.line.iterrows():\n",
    "        if i < 12:  \n",
    "            #Printing Line Index and From-To Buses   \n",
    "            #print(f'######################## Line {i} ##############################')\n",
    "            from_bus = line['from_bus']\n",
    "            to_bus = line['to_bus']\n",
    "            #print(f'From Bus {from_bus} to {to_bus}')\n",
    "\n",
    "            #Line i Out of service \n",
    "            net.line.at[i,'in_service']=False\n",
    "\n",
    "            #Run the net\n",
    "            pp.runpp(net)\n",
    "            #plot_colormaps(net.res_line.loading_percent,net.res_bus.vm_pu,net.res_trafo.loading_percent,net.res_load.p_mw,f'{l12}{l13}{l14}_Line_{i}.png')\n",
    "            #Check the values\n",
    "            faults_voltage=checkVoltageRange(bus_max_pu,bus_min_pu,net.res_bus.vm_pu,\"Bus\")\n",
    "            faults_line, faults_disc_line =checkLoadingPercent(max_line_loading,net.res_line.loading_percent,\"Line\")\n",
    "            faults_trafo, faults_disc_trafo =checkLoadingPercent(max_trafo_loading,net.res_trafo.loading_percent,\"Transformer\")\n",
    "            #print(net.res_trafo.loading_percent)\n",
    "            #print(net.res_trafo.p_hv_mw)\n",
    "            faults_load,load_status=load_check(net.res_load.p_mw)\n",
    "            sum_load_status=sum_load_status+load_status\n",
    "\n",
    "            #Write on Excel\n",
    "            sheet = workbook['Line_load']\n",
    "            sheet.cell(row=i+1+4, column=excel_column+1, value=faults_line)\n",
    "            sheet=workbook['Line_disc']\n",
    "            sheet.cell(row=i+1+4, column=excel_column+1, value=faults_disc_line)\n",
    "            sheet = workbook['Bus']\n",
    "            sheet.cell(row=i+1+4, column=excel_column+1, value=faults_voltage)\n",
    "            sheet = workbook['Trafo']\n",
    "            sheet.cell(row=i+1+4, column=excel_column+1, value=faults_trafo)\n",
    "            sheet = workbook['Load']\n",
    "            sheet.cell(row=i+1+4, column=excel_column+1, value=faults_load)\n",
    "            \n",
    "            nan_times=nan_times+ np.where(np.isnan(net.res_line.loading_percent.to_numpy()), 1, 0)\n",
    "            #print(f'array = {net.res_line.loading_percent.to_numpy()}')\n",
    "            #print(f'Nan values= {nan_times}')\n",
    "            sum_line_loading=sum_line_loading+ np.nan_to_num(net.res_line.loading_percent.to_numpy(), nan=0) \n",
    "            sum_line_power=sum_line_power+np.nan_to_num(net.res_line.p_from_mw.to_numpy(), nan=0) \n",
    "            \n",
    "            \n",
    "            net.line.at[i,'in_service']=True\n",
    "            i+=1\n",
    "\n",
    "    avg_line_loading= sum_line_loading/(12-nan_times)\n",
    "    avg_power_loading=sum_line_power/(12-nan_times)\n",
    "    #print(f'AVG_LINE_LOADING {avg_line_loading}')\n",
    "    excel_values_lines(workbook,'Line_Loading',excel_column,avg_line_loading,nan_times, avg_power_loading)\n",
    "    excel_values_load(workbook, 'Load_status',excel_column,sum_load_status)\n",
    "    workbook.save(file_path)\n",
    "    net.switch.at[1,'closed']=True\n",
    "    net.switch.at[2,'closed']=True\n",
    "    net.switch.at[5,'closed']=True\n",
    "    net.line.at[12,'in_service']=True\n",
    "    net.line.at[13,'in_service']=True\n",
    "    net.line.at[14,'in_service']=True\n"
   ]
  },
  {
   "cell_type": "markdown",
   "metadata": {},
   "source": [
    "## 1.1 State of the Network\n",
    "\n",
    "What is the state of the network? Check bus voltage [pu] and line/transformer loading [%]\n",
    "\n",
    "Consider that the maximum allowed voltage is 1.1 pu, the minimum is 0.9 pu, and the maximum line loading is 100%.\n",
    "\n",
    "Set the limits for Voltage Per Unit (pu) and for Line loading"
   ]
  },
  {
   "cell_type": "code",
   "execution_count": null,
   "metadata": {},
   "outputs": [],
   "source": [
    "net = nw.create_cigre_network_mv(with_der=False)\n",
    "\n",
    "bus_max_pu=1.1\n",
    "bus_min_pu=0.9\n",
    "max_line_loading=100\n",
    "max_trafo_loading=100\n",
    "\n",
    "pp.runpp(net)\n",
    "plot.simple_plot(net, respect_switches=False, line_width=1.0, bus_size=1.0, ext_grid_size=1.0, trafo_size=1.0, \n",
    "                 plot_loads=True, plot_gens=False, plot_sgens=False, \n",
    "                 load_size=2, gen_size=1.0, sgen_size=1.0, \n",
    "                 switch_size=2.0, switch_distance=1.0, plot_line_switches=True, scale_size=True, \n",
    "                 bus_color='b', line_color='grey', trafo_color='k', ext_grid_color='y', switch_color='r', library='igraph', show_plot=True, ax=None)\n",
    "\n",
    "\n",
    "checkVoltageRange(bus_max_pu,bus_min_pu,net.res_bus.vm_pu,\"Bus\")\n",
    "checkLoadingPercent(max_line_loading,net.res_line.loading_percent,\"Line\")\n",
    "checkLoadingPercent(max_trafo_loading,net.res_trafo.loading_percent,\"Transformer\")"
   ]
  },
  {
   "cell_type": "markdown",
   "metadata": {},
   "source": [
    "## 1.2 (N-1) Contingency\n",
    "\n",
    "What happens in the system during a contingency (N-1) case? Are there lines overloaded? Buses above/under the limits?\n",
    "\n",
    "Consider that the maximum allowed voltage is 1.1 pu, the minimum is 0.9 pu, the maximum line loading is 100% AND all\n",
    "customers/loads should be supplied with power.\n",
    "\n",
    "Ignore the switches:\n",
    "- Line 12 (bus 6 to 7)\n",
    "- Line 13 (bus 11 to 4)\n",
    "- Line 14 (bus 14 to 8)"
   ]
  },
  {
   "cell_type": "markdown",
   "metadata": {},
   "source": [
    "Run the N-1 contingency with the normal limit values for every combination of open/closed switches"
   ]
  },
  {
   "cell_type": "code",
   "execution_count": null,
   "metadata": {},
   "outputs": [],
   "source": [
    "contingency(bus_max_pu,bus_min_pu,max_line_loading,max_trafo_loading,net,1,1,1,'Step_1.xlsx')\n",
    "contingency(bus_max_pu,bus_min_pu,max_line_loading,max_trafo_loading,net,0,0,0,'Step_1.xlsx')\n",
    "contingency(bus_max_pu,bus_min_pu,max_line_loading,max_trafo_loading,net,1,0,0,'Step_1.xlsx')\n",
    "contingency(bus_max_pu,bus_min_pu,max_line_loading,max_trafo_loading,net,1,0,1,'Step_1.xlsx')\n",
    "contingency(bus_max_pu,bus_min_pu,max_line_loading,max_trafo_loading,net,1,1,0,'Step_1.xlsx')\n",
    "contingency(bus_max_pu,bus_min_pu,max_line_loading,max_trafo_loading,net,0,1,0,'Step_1.xlsx')\n",
    "contingency(bus_max_pu,bus_min_pu,max_line_loading,max_trafo_loading,net,0,1,1,'Step_1.xlsx')\n",
    "contingency(bus_max_pu,bus_min_pu,max_line_loading,max_trafo_loading,net,0,0,1,'Step_1.xlsx')"
   ]
  },
  {
   "cell_type": "markdown",
   "metadata": {},
   "source": [
    "## 1.3 (N-1) Contingency Strict"
   ]
  },
  {
   "cell_type": "code",
   "execution_count": null,
   "metadata": {},
   "outputs": [],
   "source": [
    "bus_max_pu=1.05\n",
    "bus_min_pu=0.95\n",
    "\n",
    "contingency(bus_max_pu,bus_min_pu,max_line_loading,max_trafo_loading,net,1,1,1,'Step_1_strict.xlsx')\n",
    "contingency(bus_max_pu,bus_min_pu,max_line_loading,max_trafo_loading,net,0,0,0,'Step_1_strict.xlsx')\n",
    "contingency(bus_max_pu,bus_min_pu,max_line_loading,max_trafo_loading,net,1,0,0,'Step_1_strict.xlsx')\n",
    "contingency(bus_max_pu,bus_min_pu,max_line_loading,max_trafo_loading,net,1,0,1,'Step_1_strict.xlsx')\n",
    "contingency(bus_max_pu,bus_min_pu,max_line_loading,max_trafo_loading,net,1,1,0,'Step_1_strict.xlsx')\n",
    "contingency(bus_max_pu,bus_min_pu,max_line_loading,max_trafo_loading,net,0,1,0,'Step_1_strict.xlsx')\n",
    "contingency(bus_max_pu,bus_min_pu,max_line_loading,max_trafo_loading,net,0,1,1,'Step_1_strict.xlsx')\n",
    "contingency(bus_max_pu,bus_min_pu,max_line_loading,max_trafo_loading,net,0,0,1,'Step_1_strict.xlsx')"
   ]
  }
 ],
 "metadata": {
  "kernelspec": {
   "display_name": "Python 3",
   "language": "python",
   "name": "python3"
  },
  "language_info": {
   "codemirror_mode": {
    "name": "ipython",
    "version": 3
   },
   "file_extension": ".py",
   "mimetype": "text/x-python",
   "name": "python",
   "nbconvert_exporter": "python",
   "pygments_lexer": "ipython3",
   "version": "3.11.3"
  }
 },
 "nbformat": 4,
 "nbformat_minor": 2
}
