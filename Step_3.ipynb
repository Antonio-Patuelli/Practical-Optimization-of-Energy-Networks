{
 "cells": [
  {
   "cell_type": "markdown",
   "metadata": {},
   "source": [
    "# STEP 3"
   ]
  },
  {
   "cell_type": "code",
   "execution_count": 3,
   "metadata": {},
   "outputs": [
    {
     "data": {
      "text/html": [
       "<div>\n",
       "<style scoped>\n",
       "    .dataframe tbody tr th:only-of-type {\n",
       "        vertical-align: middle;\n",
       "    }\n",
       "\n",
       "    .dataframe tbody tr th {\n",
       "        vertical-align: top;\n",
       "    }\n",
       "\n",
       "    .dataframe thead th {\n",
       "        text-align: right;\n",
       "    }\n",
       "</style>\n",
       "<table border=\"1\" class=\"dataframe\">\n",
       "  <thead>\n",
       "    <tr style=\"text-align: right;\">\n",
       "      <th></th>\n",
       "      <th>x</th>\n",
       "      <th>y</th>\n",
       "      <th>coords</th>\n",
       "    </tr>\n",
       "  </thead>\n",
       "  <tbody>\n",
       "    <tr>\n",
       "      <th>0</th>\n",
       "      <td>7.0</td>\n",
       "      <td>16</td>\n",
       "      <td>NaN</td>\n",
       "    </tr>\n",
       "    <tr>\n",
       "      <th>1</th>\n",
       "      <td>4.0</td>\n",
       "      <td>15</td>\n",
       "      <td>NaN</td>\n",
       "    </tr>\n",
       "    <tr>\n",
       "      <th>2</th>\n",
       "      <td>4.0</td>\n",
       "      <td>13</td>\n",
       "      <td>NaN</td>\n",
       "    </tr>\n",
       "    <tr>\n",
       "      <th>3</th>\n",
       "      <td>4.0</td>\n",
       "      <td>11</td>\n",
       "      <td>NaN</td>\n",
       "    </tr>\n",
       "    <tr>\n",
       "      <th>4</th>\n",
       "      <td>2.5</td>\n",
       "      <td>9</td>\n",
       "      <td>NaN</td>\n",
       "    </tr>\n",
       "    <tr>\n",
       "      <th>5</th>\n",
       "      <td>1.0</td>\n",
       "      <td>7</td>\n",
       "      <td>NaN</td>\n",
       "    </tr>\n",
       "    <tr>\n",
       "      <th>6</th>\n",
       "      <td>1.0</td>\n",
       "      <td>3</td>\n",
       "      <td>NaN</td>\n",
       "    </tr>\n",
       "    <tr>\n",
       "      <th>7</th>\n",
       "      <td>8.0</td>\n",
       "      <td>3</td>\n",
       "      <td>NaN</td>\n",
       "    </tr>\n",
       "    <tr>\n",
       "      <th>8</th>\n",
       "      <td>8.0</td>\n",
       "      <td>5</td>\n",
       "      <td>NaN</td>\n",
       "    </tr>\n",
       "    <tr>\n",
       "      <th>9</th>\n",
       "      <td>6.0</td>\n",
       "      <td>5</td>\n",
       "      <td>NaN</td>\n",
       "    </tr>\n",
       "    <tr>\n",
       "      <th>10</th>\n",
       "      <td>4.0</td>\n",
       "      <td>5</td>\n",
       "      <td>NaN</td>\n",
       "    </tr>\n",
       "    <tr>\n",
       "      <th>11</th>\n",
       "      <td>4.0</td>\n",
       "      <td>7</td>\n",
       "      <td>NaN</td>\n",
       "    </tr>\n",
       "    <tr>\n",
       "      <th>12</th>\n",
       "      <td>10.0</td>\n",
       "      <td>15</td>\n",
       "      <td>NaN</td>\n",
       "    </tr>\n",
       "    <tr>\n",
       "      <th>13</th>\n",
       "      <td>10.0</td>\n",
       "      <td>11</td>\n",
       "      <td>NaN</td>\n",
       "    </tr>\n",
       "    <tr>\n",
       "      <th>14</th>\n",
       "      <td>10.0</td>\n",
       "      <td>5</td>\n",
       "      <td>NaN</td>\n",
       "    </tr>\n",
       "  </tbody>\n",
       "</table>\n",
       "</div>"
      ],
      "text/plain": [
       "       x   y  coords\n",
       "0    7.0  16     NaN\n",
       "1    4.0  15     NaN\n",
       "2    4.0  13     NaN\n",
       "3    4.0  11     NaN\n",
       "4    2.5   9     NaN\n",
       "5    1.0   7     NaN\n",
       "6    1.0   3     NaN\n",
       "7    8.0   3     NaN\n",
       "8    8.0   5     NaN\n",
       "9    6.0   5     NaN\n",
       "10   4.0   5     NaN\n",
       "11   4.0   7     NaN\n",
       "12  10.0  15     NaN\n",
       "13  10.0  11     NaN\n",
       "14  10.0   5     NaN"
      ]
     },
     "execution_count": 3,
     "metadata": {},
     "output_type": "execute_result"
    }
   ],
   "source": [
    "import pandapower.networks as nw\n",
    "import pandapower as pp\n",
    "import pandas as pd\n",
    "import pandapower.plotting as plot\n",
    "import matplotlib.pyplot as plt\n",
    "import numpy as np\n",
    "from openpyxl import load_workbook\n",
    "net=nw.create_cigre_network_mv()\n",
    "net.bus_geodata\n"
   ]
  },
  {
   "cell_type": "markdown",
   "metadata": {},
   "source": [
    "## add tranformer and load to the grid (bus 4, 7, 8, 13, 14)"
   ]
  },
  {
   "cell_type": "code",
   "execution_count": 4,
   "metadata": {},
   "outputs": [
    {
     "name": "stdout",
     "output_type": "stream",
     "text": [
      "         name  bus      p_mw    q_mvar  const_z_percent  const_i_percent  \\\n",
      "0     Load R1    1  14.99400  3.044662              0.0              0.0   \n",
      "1     Load R3    3   0.27645  0.069285              0.0              0.0   \n",
      "2     Load R4    4   0.43165  0.108182              0.0              0.0   \n",
      "3     Load R5    5   0.72750  0.182329              0.0              0.0   \n",
      "4     Load R6    6   0.54805  0.137354              0.0              0.0   \n",
      "5     Load R8    8   0.58685  0.147078              0.0              0.0   \n",
      "6    Load R10   10   0.47530  0.119121              0.0              0.0   \n",
      "7    Load R11   11   0.32980  0.082656              0.0              0.0   \n",
      "8    Load R12   12  14.99400  3.044662              0.0              0.0   \n",
      "9    Load R14   14   0.20855  0.052268              0.0              0.0   \n",
      "10   Load CI1    1   4.84500  1.592474              0.0              0.0   \n",
      "11   Load CI3    3   0.22525  0.139597              0.0              0.0   \n",
      "12   Load CI7    7   0.07650  0.047410              0.0              0.0   \n",
      "13   Load CI9    9   0.57375  0.355578              0.0              0.0   \n",
      "14  Load CI10   10   0.06800  0.042143              0.0              0.0   \n",
      "15  Load CI12   12   5.01600  1.648679              0.0              0.0   \n",
      "16  Load CI13   13   0.03400  0.021071              0.0              0.0   \n",
      "17  Load CI14   14   0.33150  0.205445              0.0              0.0   \n",
      "18       CS_1   15  14.99400  3.044662              0.0              0.0   \n",
      "19       CS_2   16  14.99400  3.044662              0.0              0.0   \n",
      "20       CS_3   17  14.99400  3.044662              0.0              0.0   \n",
      "21       CS_4   18  14.99400  3.044662              0.0              0.0   \n",
      "22       CS_5   19  14.99400  3.044662              0.0              0.0   \n",
      "\n",
      "    sn_mva  scaling  in_service type  \n",
      "0   15.300      1.0        True  wye  \n",
      "1    0.285      1.0        True  wye  \n",
      "2    0.445      1.0        True  wye  \n",
      "3    0.750      1.0        True  wye  \n",
      "4    0.565      1.0        True  wye  \n",
      "5    0.605      1.0        True  wye  \n",
      "6    0.490      1.0        True  wye  \n",
      "7    0.340      1.0        True  wye  \n",
      "8   15.300      1.0        True  wye  \n",
      "9    0.215      1.0        True  wye  \n",
      "10   5.100      1.0        True  wye  \n",
      "11   0.265      1.0        True  wye  \n",
      "12   0.090      1.0        True  wye  \n",
      "13   0.675      1.0        True  wye  \n",
      "14   0.080      1.0        True  wye  \n",
      "15   5.280      1.0        True  wye  \n",
      "16   0.040      1.0        True  wye  \n",
      "17   0.390      1.0        True  wye  \n",
      "18  15.300      1.0        True  wye  \n",
      "19  15.300      1.0        True  wye  \n",
      "20  15.300      1.0        True  wye  \n",
      "21  15.300      1.0        True  wye  \n",
      "22  15.300      1.0        True  wye  \n"
     ]
    }
   ],
   "source": [
    "net=nw.create_cigre_network_mv()\n",
    "\n",
    "bus15 = pp.create_bus(net, vn_kv=0.4, geodata=[2.5, 7], name=\"Bus 15\")\n",
    "trafo = pp.create_transformer(net, hv_bus=4, lv_bus=bus15, std_type=\"0.4 MVA 20/0.4 kV\", name=\"Trafo 4-15\")\n",
    "\n",
    "bus16 = pp.create_bus(net, vn_kv=0.4, geodata=[8, 1], name=\"Bus 16\")\n",
    "trafo = pp.create_transformer(net, hv_bus=7, lv_bus=bus16, std_type=\"0.4 MVA 20/0.4 kV\", name=\"Trafo 7-16\")\n",
    "\n",
    "bus17 = pp.create_bus(net, vn_kv=0.4, geodata=[8, 11], name=\"Bus 17\")\n",
    "trafo = pp.create_transformer(net, hv_bus=8, lv_bus=bus17, std_type=\"0.4 MVA 20/0.4 kV\", name=\"Trafo 8-17\")\n",
    "\n",
    "bus18 = pp.create_bus(net, vn_kv=0.4, geodata=[12, 11], name=\"Bus 18\")\n",
    "trafo = pp.create_transformer(net, hv_bus=13, lv_bus=bus18, std_type=\"0.4 MVA 20/0.4 kV\", name=\"Trafo 13-18\")\n",
    "\n",
    "bus19 = pp.create_bus(net, vn_kv=0.4, geodata=[10, 3], name=\"Bus 19\")\n",
    "trafo = pp.create_transformer(net, hv_bus=14, lv_bus=bus19, std_type=\"0.4 MVA 20/0.4 kV\", name=\"Trafo 14-19\")\n",
    "\n",
    "# add new loads\n",
    "pp.create_load(net, bus=bus15, p_mw=14.99400, q_mvar=3.044662, sn_mva=15.300, name=\"CS_1\")\n",
    "pp.create_load(net, bus=bus16, p_mw=14.99400, q_mvar=3.044662, sn_mva=15.300, name=\"CS_2\")\n",
    "pp.create_load(net, bus=bus17, p_mw=14.99400, q_mvar=3.044662, sn_mva=15.300, name=\"CS_3\")\n",
    "pp.create_load(net, bus=bus18, p_mw=14.99400, q_mvar=3.044662, sn_mva=15.300, name=\"CS_4\")\n",
    "pp.create_load(net, bus=bus19, p_mw=14.99400, q_mvar=3.044662, sn_mva=15.300, name=\"CS_5\")\n",
    "print(net.load)\n",
    "\n"
   ]
  },
  {
   "cell_type": "code",
   "execution_count": 5,
   "metadata": {},
   "outputs": [
    {
     "data": {
      "image/png": "[encoded data removed]",
      "text/plain": [
       "<Figure size 1000x800 with 1 Axes>"
      ]
     },
     "metadata": {},
     "output_type": "display_data"
    }
   ],
   "source": [
    "# Step 2: Run a power flow calculation\n",
    "#pp.runpp(net)\n",
    "\n",
    "# Step 3: Plot the network\n",
    "# Customize the plotting with bus colors, line colors, etc.\n",
    "plot.simple_plot(\n",
    "    net,\n",
    "    respect_switches=False,   # Respect switch positions\n",
    "    line_width=2.0,           # Line thickness\n",
    "    bus_size=1.5,             # Size of the bus markers\n",
    "    ext_grid_size=1.5,        # Size of the external grid symbol\n",
    "    trafo_size=2.0,           # Size of transformers\n",
    "    plot_loads=True,          # Plot loads\n",
    "    plot_sgens=False,         # Plot static generators (optional)\n",
    "    load_size=2,              # Size of the load markers\n",
    "    bus_color='b',            # Color for buses (blue)\n",
    "    line_color='g',           # Color for lines (green)\n",
    "    trafo_color='k',          # Color for transformers (black)\n",
    "    ext_grid_color='y',       # Color for external grid (yellow)\n",
    "    show_plot=True            # Show the plot\n",
    ")\n",
    "\n",
    "# Step 4: Show the plot using matplotlib (optional if show_plot=True)\n",
    "plt.show()"
   ]
  },
  {
   "cell_type": "markdown",
   "metadata": {},
   "source": [
    "## Import daily data about EVs"
   ]
  },
  {
   "cell_type": "code",
   "execution_count": 31,
   "metadata": {},
   "outputs": [
    {
     "data": {
      "text/plain": [
       "801.6438356"
      ]
     },
     "execution_count": 31,
     "metadata": {},
     "output_type": "execute_result"
    }
   ],
   "source": [
    "def read_load_shape(filename):\n",
    "    with open(filename, 'r') as file:\n",
    "        loadshape = file.read().splitlines()\n",
    "    #Convert Load shape into float\n",
    "    loadshape = np.array(loadshape, dtype=float)\n",
    "    return loadshape\n",
    "loadshape= read_load_shape('day_mean.txt')\n",
    "\n",
    "\n"
   ]
  }
 ],
 "metadata": {
  "kernelspec": {
   "display_name": "Python 3",
   "language": "python",
   "name": "python3"
  },
  "language_info": {
   "codemirror_mode": {
    "name": "ipython",
    "version": 3
   },
   "file_extension": ".py",
   "mimetype": "text/x-python",
   "name": "python",
   "nbconvert_exporter": "python",
   "pygments_lexer": "ipython3",
   "version": "3.12.5"
  }
 },
 "nbformat": 4,
 "nbformat_minor": 2
}
